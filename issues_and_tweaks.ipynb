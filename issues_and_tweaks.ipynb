{
 "cells": [
  {
   "cell_type": "code",
   "execution_count": 18,
   "metadata": {},
   "outputs": [],
   "source": [
    "import os\n",
    "import csv\n",
    "import pickle as pkl\n",
    "import networkx as nx\n",
    "import pandas as pd\n",
    "import numpy as np\n",
    "import pickle as pkl"
   ]
  },
  {
   "cell_type": "markdown",
   "metadata": {},
   "source": [
    "# Issues and Tweaks Documentation"
   ]
  },
  {
   "cell_type": "markdown",
   "metadata": {},
   "source": [
    "## Tree Root Inconsistency"
   ]
  },
  {
   "cell_type": "code",
   "execution_count": 19,
   "metadata": {
    "scrolled": true
   },
   "outputs": [
    {
     "name": "stdout",
     "output_type": "stream",
     "text": [
      "Many Starts: 10076.0\n",
      "Many Starts: 10082.0\n",
      "Many Starts: 10097.0\n",
      "Many Starts: 10145.0\n",
      "Many Starts: 1137.0\n",
      "Many Starts: 11780.0\n",
      "Many Starts: 1203.0\n",
      "Many Starts: 1221.0\n",
      "Many Starts: 1257.0\n",
      "Many Starts: 1258.0\n",
      "Many Starts: 1260.0\n",
      "Many Starts: 12788.0\n",
      "Many Starts: 13225.0\n",
      "Many Starts: 13288.0\n",
      "Many Starts: 13517.0\n",
      "Many Starts: 1379.0\n",
      "Many Starts: 13797.0\n",
      "Many Starts: 14121.0\n",
      "Many Starts: 14232.0\n",
      "Many Starts: 14445.0\n",
      "Many Starts: 1474.0\n",
      "Many Starts: 14768.0\n",
      "Many Starts: 14793.0\n",
      "Many Starts: 1517.0\n",
      "Many Starts: 15349.0\n",
      "Many Starts: 15897.0\n",
      "Many Starts: 1592.0\n",
      "Many Starts: 16186.0\n",
      "Many Starts: 1622.0\n",
      "Many Starts: 16376.0\n",
      "Many Starts: 16648.0\n",
      "Many Starts: 16674.0\n",
      "Many Starts: 16729.0\n",
      "Many Starts: 16790.0\n",
      "Many Starts: 16962.0\n",
      "Many Starts: 17045.0\n",
      "Many Starts: 17627.0\n",
      "Many Starts: 17682.0\n",
      "Many Starts: 17895.0\n",
      "Many Starts: 18047.0\n",
      "Many Starts: 18052.0\n",
      "Many Starts: 18081.0\n",
      "Many Starts: 18187.0\n",
      "Many Starts: 18595.0\n",
      "Many Starts: 18632.0\n",
      "Many Starts: 18642.0\n",
      "Many Starts: 18944.0\n",
      "Many Starts: 18953.0\n",
      "Many Starts: 19060.0\n",
      "Many Starts: 19185.0\n",
      "Many Starts: 19293.0\n",
      "Many Starts: 19294.0\n",
      "Many Starts: 2027.0\n",
      "Many Starts: 21066.0\n",
      "Many Starts: 21693.0\n",
      "Many Starts: 22187.0\n",
      "Many Starts: 23120.0\n",
      "Many Starts: 23978.0\n",
      "Many Starts: 24431.0\n",
      "Many Starts: 24583.0\n",
      "Many Starts: 24907.0\n",
      "Many Starts: 25156.0\n",
      "Many Starts: 2588.0\n",
      "Many Starts: 26120.0\n",
      "Many Starts: 26901.0\n",
      "Many Starts: 27023.0\n",
      "Many Starts: 2710.0\n",
      "Many Starts: 27131.0\n",
      "Many Starts: 27525.0\n",
      "Many Starts: 27585.0\n",
      "Many Starts: 28206.0\n",
      "Many Starts: 28219.0\n",
      "Many Starts: 28353.0\n",
      "Many Starts: 28772.0\n",
      "Many Starts: 28794.0\n",
      "Many Starts: 29073.0\n",
      "Many Starts: 29207.0\n",
      "Many Starts: 29262.0\n",
      "Many Starts: 29271.0\n",
      "Many Starts: 29320.0\n",
      "Many Starts: 29348.0\n",
      "Many Starts: 29615.0\n",
      "Many Starts: 29700.0\n",
      "Many Starts: 29907.0\n",
      "Many Starts: 29923.0\n",
      "Many Starts: 29944.0\n",
      "Many Starts: 29946.0\n",
      "Many Starts: 2995.0\n",
      "Many Starts: 30007.0\n",
      "Many Starts: 30015.0\n",
      "Many Starts: 30028.0\n",
      "Many Starts: 30060.0\n",
      "Many Starts: 30072.0\n",
      "Many Starts: 30154.0\n",
      "Many Starts: 30228.0\n",
      "Many Starts: 30236.0\n",
      "Late Start: 30378.0\n",
      "Late Start: 30382.0\n",
      "Late Start: 30393.0\n",
      "Late Start: 30410.0\n",
      "Late Start: 30428.0\n",
      "Late Start: 30430.0\n",
      "Late Start: 30431.0\n",
      "Many Starts: 30439.0\n",
      "Late Start: 30446.0\n",
      "Late Start: 30447.0\n",
      "Late Start: 30484.0\n",
      "Late Start: 30486.0\n",
      "Late Start: 30504.0\n",
      "Late Start: 30506.0\n",
      "Late Start: 30511.0\n",
      "Late Start: 30534.0\n",
      "Late Start: 30542.0\n",
      "Late Start: 30551.0\n",
      "Late Start: 30560.0\n",
      "Late Start: 30562.0\n",
      "Late Start: 30569.0\n",
      "Late Start: 30570.0\n",
      "Late Start: 30620.0\n",
      "Late Start: 30643.0\n",
      "Late Start: 30664.0\n",
      "Late Start: 30665.0\n",
      "Late Start: 30667.0\n",
      "Late Start: 30673.0\n",
      "Late Start: 30679.0\n",
      "Late Start: 30703.0\n",
      "Late Start: 30716.0\n",
      "Late Start: 30725.0\n",
      "Late Start: 30730.0\n",
      "Late Start: 30731.0\n",
      "Late Start: 30738.0\n",
      "Late Start: 30743.0\n",
      "Late Start: 30748.0\n",
      "Late Start: 30787.0\n",
      "Late Start: 30792.0\n",
      "Late Start: 30794.0\n",
      "Late Start: 30829.0\n",
      "Late Start: 30856.0\n",
      "Late Start: 30857.0\n",
      "Late Start: 30858.0\n",
      "Late Start: 30862.0\n",
      "Late Start: 30863.0\n",
      "Late Start: 30878.0\n",
      "Late Start: 30882.0\n",
      "Late Start: 30884.0\n",
      "Late Start: 30896.0\n",
      "Many Starts: 30906.0\n",
      "Many Starts: 30910.0\n",
      "Late Start: 30918.0\n",
      "Late Start: 30926.0\n",
      "Many Starts: 3093.0\n",
      "Late Start: 30937.0\n",
      "Many Starts: 30945.0\n",
      "Late Start: 30959.0\n",
      "Late Start: 30977.0\n",
      "Many Starts: 30985.0\n",
      "Late Start: 30988.0\n",
      "Many Starts: 30989.0\n",
      "Late Start: 30994.0\n",
      "Late Start: 30999.0\n",
      "Late Start: 31027.0\n",
      "Late Start: 31028.0\n",
      "Late Start: 31030.0\n",
      "Late Start: 31031.0\n",
      "Late Start: 31043.0\n",
      "Late Start: 31056.0\n",
      "Late Start: 31063.0\n",
      "Late Start: 31092.0\n",
      "Late Start: 31115.0\n",
      "Late Start: 31141.0\n",
      "Late Start: 31157.0\n",
      "Late Start: 31178.0\n",
      "Late Start: 31205.0\n",
      "Late Start: 31208.0\n",
      "Many Starts: 31209.0\n",
      "Late Start: 31213.0\n",
      "Late Start: 31221.0\n",
      "Late Start: 31225.0\n",
      "Late Start: 31228.0\n",
      "Late Start: 31231.0\n",
      "Late Start: 31239.0\n",
      "Many Starts: 31265.0\n",
      "Late Start: 31266.0\n",
      "Late Start: 31278.0\n",
      "Late Start: 31279.0\n",
      "Late Start: 31281.0\n",
      "Many Starts: 31294.0\n",
      "Late Start: 31301.0\n",
      "Late Start: 31316.0\n",
      "Late Start: 31340.0\n",
      "Late Start: 31350.0\n",
      "Late Start: 31352.0\n",
      "Late Start: 31355.0\n",
      "Late Start: 31372.0\n",
      "Late Start: 31378.0\n",
      "Late Start: 31381.0\n",
      "Late Start: 31390.0\n",
      "Late Start: 31391.0\n",
      "Late Start: 31397.0\n",
      "Late Start: 31469.0\n",
      "Late Start: 31476.0\n",
      "Late Start: 31481.0\n",
      "Many Starts: 31484.0\n",
      "Late Start: 31491.0\n",
      "Late Start: 31514.0\n",
      "Late Start: 31545.0\n",
      "Late Start: 31549.0\n",
      "Late Start: 31552.0\n",
      "Many Starts: 31555.0\n",
      "Late Start: 31568.0\n",
      "Late Start: 31570.0\n",
      "Late Start: 31639.0\n",
      "Late Start: 31640.0\n",
      "Late Start: 31653.0\n",
      "Late Start: 31658.0\n",
      "Late Start: 31662.0\n",
      "Late Start: 31669.0\n",
      "Many Starts: 31672.0\n",
      "Many Starts: 31673.0\n",
      "Many Starts: 31674.0\n",
      "Late Start: 31679.0\n",
      "Late Start: 31689.0\n",
      "Late Start: 31699.0\n",
      "Late Start: 31704.0\n",
      "Many Starts: 3171.0\n",
      "Late Start: 31735.0\n",
      "Many Starts: 31741.0\n",
      "Late Start: 31745.0\n",
      "Late Start: 31747.0\n",
      "Late Start: 31753.0\n",
      "Late Start: 31756.0\n",
      "Late Start: 31760.0\n",
      "Late Start: 31761.0\n",
      "Late Start: 31766.0\n",
      "Late Start: 31770.0\n",
      "Late Start: 31776.0\n",
      "Late Start: 31783.0\n",
      "Late Start: 31810.0\n",
      "Many Starts: 31828.0\n",
      "Late Start: 31829.0\n",
      "Late Start: 31832.0\n",
      "Late Start: 31848.0\n",
      "Late Start: 31849.0\n",
      "Many Starts: 31850.0\n",
      "Late Start: 31852.0\n",
      "Late Start: 31853.0\n",
      "Many Starts: 31863.0\n",
      "Late Start: 31866.0\n",
      "Late Start: 31867.0\n",
      "Late Start: 31870.0\n",
      "Late Start: 31941.0\n",
      "Late Start: 31946.0\n",
      "Late Start: 32012.0\n",
      "Late Start: 32033.0\n",
      "Many Starts: 32034.0\n",
      "Many Starts: 32038.0\n",
      "Late Start: 32053.0\n",
      "Late Start: 32079.0\n",
      "Late Start: 32097.0\n",
      "Late Start: 32101.0\n",
      "Late Start: 32108.0\n",
      "Many Starts: 32134.0\n",
      "Late Start: 32143.0\n",
      "Late Start: 32171.0\n",
      "Many Starts: 32172.0\n",
      "Late Start: 32184.0\n",
      "Late Start: 32197.0\n",
      "Late Start: 32202.0\n",
      "Late Start: 32205.0\n",
      "Many Starts: 32218.0\n",
      "Late Start: 32252.0\n",
      "Late Start: 32290.0\n",
      "Late Start: 32298.0\n",
      "Late Start: 32301.0\n",
      "Late Start: 32314.0\n",
      "Late Start: 32315.0\n",
      "Late Start: 32480.0\n",
      "Late Start: 32518.0\n",
      "Late Start: 32519.0\n",
      "Late Start: 32526.0\n",
      "Late Start: 32530.0\n",
      "Late Start: 32548.0\n",
      "Late Start: 32549.0\n",
      "Late Start: 32589.0\n",
      "Late Start: 32619.0\n",
      "Late Start: 32636.0\n",
      "Late Start: 32647.0\n",
      "Late Start: 32706.0\n",
      "Many Starts: 32709.0\n",
      "Late Start: 32724.0\n",
      "Late Start: 32729.0\n",
      "Late Start: 32759.0\n",
      "Late Start: 32789.0\n",
      "Late Start: 32801.0\n",
      "Late Start: 32815.0\n",
      "Many Starts: 32817.0\n",
      "Late Start: 32820.0\n",
      "Late Start: 32825.0\n",
      "Late Start: 32829.0\n",
      "Late Start: 32830.0\n",
      "Late Start: 32837.0\n",
      "Late Start: 32840.0\n",
      "Late Start: 32846.0\n",
      "Late Start: 32861.0\n",
      "Late Start: 32864.0\n",
      "Many Starts: 32876.0\n",
      "Late Start: 32878.0\n",
      "Late Start: 32909.0\n",
      "Late Start: 33035.0\n",
      "Late Start: 33046.0\n",
      "Late Start: 33047.0\n",
      "Late Start: 33048.0\n",
      "Late Start: 33056.0\n",
      "Late Start: 33086.0\n",
      "Late Start: 33105.0\n",
      "Many Starts: 33111.0\n",
      "Late Start: 33112.0\n",
      "Late Start: 33113.0\n",
      "Late Start: 33156.0\n",
      "Many Starts: 33159.0\n",
      "Late Start: 33169.0\n",
      "Late Start: 33205.0\n",
      "Late Start: 33211.0\n",
      "Late Start: 33292.0\n",
      "Many Starts: 333.0\n",
      "Late Start: 33310.0\n",
      "Many Starts: 3371.0\n",
      "Many Starts: 3853.0\n",
      "Many Starts: 4650.0\n",
      "Many Starts: 4748.0\n",
      "Many Starts: 5589.0\n",
      "Many Starts: 6067.0\n",
      "Many Starts: 6274.0\n",
      "Many Starts: 6351.0\n",
      "Many Starts: 6525.0\n",
      "Many Starts: 6966.0\n",
      "Many Starts: 7121.0\n",
      "Many Starts: 7704.0\n",
      "Many Starts: 8857.0\n",
      "Many Starts: 8911.0\n",
      "Many Starts: 9131.0\n",
      "Many Starts: 9143.0\n",
      "Late Start: 9226.0\n"
     ]
    }
   ],
   "source": [
    "dataset_path = 'NewserializedGraphs/'\n",
    "files = os.listdir(dataset_path)\n",
    "for file in files:\n",
    "    data = pkl.load(open(dataset_path + file, 'rb'))\n",
    "    tree_root = file.split('.')[0] + '.0'\n",
    "    discussion_root = list(data.predecessors(tree_root))\n",
    "    if len(discussion_root) > 1:\n",
    "            print('Many Starts: ' + tree_root)\n",
    "    else:\n",
    "        discussion_root = discussion_root[0]\n",
    "        if '.1' in discussion_root:\n",
    "            pass\n",
    "        else:\n",
    "            print('Late Start: ' + tree_root)"
   ]
  },
  {
   "cell_type": "code",
   "execution_count": 20,
   "metadata": {
    "scrolled": true
   },
   "outputs": [
    {
     "name": "stdout",
     "output_type": "stream",
     "text": [
      "10035\n",
      "10035.0: **NO TEXT**\n",
      "10035.1: All couples should sign a prenuptial agreement before marriage.\n",
      "\n",
      "\n",
      "10076\n",
      "10076.0: Black Panther: Who's Right About Wakanda's Role in the World?\n",
      "10076.158: M'Baku - technology and modernisation is dangerous\n",
      "10076.3: Killmonger - conquering the oppressor.\n",
      "10076.2: Nakia - support those in need.\n",
      "10076.1: T'Challa - remaining isolated from the world.\n",
      "\n",
      "\n",
      "10097\n",
      "10097.0: What is the best reaction to an alien encounter ?\n",
      "10097.40: Befriend them and collaborate with them if possible.\n",
      "10097.1: Freeze, stay calm and observe the alien behavior.\n",
      "10097.2: Try to attack him and kill him before he kills you.\n",
      "10097.3: Run away as fast as possible.\n",
      "10097.4: Attempt to communicate with him.\n",
      "10097.5: Call the police.\n",
      "10097.6: Perform a [Reality Check](http://lucid.wikia.com/wiki/Reality_check). Encountering an alien is so extraordinary, that it might likely be just a dream.\n",
      "10097.7: Hide, and hope he didn't see you.\n",
      "10097.8: Make a video.\n",
      "10097.9: If the alien has a shape similar to an Earth animal, behave [as recommended for that animal encounter](https://www.wikihow.com/Escape-from-Dangerous-Forest-Animals). For example if he looks like a bear, react as you would do to a bear.\n",
      "10097.87: Do not panic. Historically there is more of a chance it will end badly for both of you if you panic and frighten them. Collect yourself and try to make sense of the event and why they have appeared to you.\n",
      "10097.73: Warn them about germs. No point in contact with Faster Than Light-capable species if our diseases wipe out both societies.\n",
      "10097.22: Pray to God.\n",
      "\n",
      "\n",
      "30439\n",
      "30439.0: People should be criminalized for having sex in public or in front of children.\n",
      "30439.3: Seeing people having sex is inherently harmful to children.\n",
      "30439.7: If a certain kind of behavior makes some people uncomfortable, they have the right to threaten those who engage in such behavior with kidnapping or violence, so long as they do it through an organization generally recognized as a government.\n",
      "30439.5: Sex is something dirty and nasty which shouldn't be done in public.\n",
      "\n",
      "\n",
      "30378\n",
      "30378.0: **NO TEXT**\n",
      "30378.3: AI Will Not Supplant Humans in Creating Art\n",
      "\n",
      "\n",
      "30504\n",
      "30504.0: **NO TEXT**\n",
      "30504.3: Which car company is better? Toyota vs Chevy\n",
      "\n",
      "\n",
      "30896\n",
      "30896.0: **NO TEXT**\n",
      "30896.3: Does Geotagging Outdoor Locations Dangerously Exposes Them to Overuse?\n",
      "\n",
      "\n"
     ]
    }
   ],
   "source": [
    "example_trees = ['10035.pkl', '10076.pkl', '10097.pkl', '30439.pkl', '30378.pkl', '30504.pkl', '30896.pkl']\n",
    "\n",
    "for tree in example_trees:\n",
    "    data = pkl.load(open(dataset_path + tree, 'rb'))\n",
    "    graph = tree.split('.')[0]\n",
    "    print(graph)\n",
    "    tree_root = graph + '.0'\n",
    "    text = data.nodes[tree_root]['text']\n",
    "    discussion_root = list(data.predecessors(tree_root))\n",
    "    if len(text) > 0:\n",
    "        print(tree_root + ': ' + text)\n",
    "    else:\n",
    "        print(tree_root + ': **NO TEXT**')\n",
    "    for idx in discussion_root:\n",
    "        print(idx + ': ' + data.nodes[idx]['text'])\n",
    "    print('\\n')"
   ]
  },
  {
   "cell_type": "code",
   "execution_count": 21,
   "metadata": {},
   "outputs": [
    {
     "name": "stdout",
     "output_type": "stream",
     "text": [
      "Graph: 10035\n",
      "10035.0: **NO TEXT**\n",
      "10035.1: All couples should sign a prenuptial agreement before marriage.\n",
      "\n",
      "\n",
      "Graph: 10097\n",
      "10097.0: What is the best reaction to an alien encounter ?\n",
      "\n",
      "\n",
      "Graph: 30378\n",
      "30378.0: **NO TEXT**\n",
      "30378.3: AI Will Not Supplant Humans in Creating Art\n",
      "\n",
      "\n"
     ]
    }
   ],
   "source": [
    "example_trees = ['10035.pkl', '10097.pkl', '30378.pkl']\n",
    "\n",
    "for tree in example_trees:\n",
    "    data = pkl.load(open(dataset_path + tree, 'rb'))\n",
    "    graph = tree.split('.')[0]\n",
    "    print('Graph: ' + graph)\n",
    "    tree_root = graph + '.0'\n",
    "    text = data.nodes[tree_root]['text']\n",
    "    discussion_root = list(data.predecessors(tree_root))\n",
    "    if len(text) > 0:\n",
    "        print(tree_root + ': ' + text)\n",
    "    else:\n",
    "        print(tree_root + ': **NO TEXT**')\n",
    "        for idx in discussion_root:\n",
    "            print(idx + ': ' + data.nodes[idx]['text'])\n",
    "    \n",
    "    print('\\n')"
   ]
  },
  {
   "cell_type": "markdown",
   "metadata": {},
   "source": [
    "## Upside Down Trees"
   ]
  },
  {
   "cell_type": "code",
   "execution_count": 40,
   "metadata": {},
   "outputs": [
    {
     "name": "stdout",
     "output_type": "stream",
     "text": [
      "10223.1 text: Religious Faith \\(Theology\\) and Science Can Co-exist.\n",
      "10223.18 text: The Bible claims the land was all together at one time before the whole thing was mapped out and reveals how the continents would fit together like a jigsaw puzzle in [Genesis 10:25](https://www.biblegateway.com/passage/?search=Genesis+10%3A25&version=NIV); 'And unto Eber were born two sons: the name of one was Peleg; for in his days was the earth divided; and his brother's name was Joktan.' The Bible expounds upon science in some places.  Maps would indicate this, but science has yet to confirm it.\n",
      "10223.277 text: The continental drift, \\(not the correct terminology\\) occurred long before the appearance of man. So long before Noah's descendants.\n",
      "\n",
      "\n",
      "['10223.1'] ['10223.277', '10223.310']\n"
     ]
    }
   ],
   "source": [
    "data = pkl.load(open(dataset_path + '10223.pkl', 'rb'))\n",
    "\n",
    "print('10223.1 text: ' + data.nodes['10223.1']['text'])\n",
    "print('10223.18 text: ' + data.nodes['10223.18']['text'])\n",
    "print('10223.277 text: ' + data.nodes['10223.277']['text'])\n",
    "print('\\n')\n",
    "print(list(data.successors('10223.18')), list(data.predecessors('10223.18')))"
   ]
  },
  {
   "cell_type": "markdown",
   "metadata": {},
   "source": [
    "## Graph Cycles"
   ]
  },
  {
   "cell_type": "code",
   "execution_count": 22,
   "metadata": {
    "scrolled": true
   },
   "outputs": [
    {
     "data": {
      "text/plain": [
       "['10223',\n",
       " '12304',\n",
       " '1323',\n",
       " '15434',\n",
       " '1922',\n",
       " '1960',\n",
       " '20564',\n",
       " '31294',\n",
       " '3253',\n",
       " '33105',\n",
       " '3529',\n",
       " '486',\n",
       " '6295',\n",
       " '8319',\n",
       " '9967']"
      ]
     },
     "execution_count": 22,
     "metadata": {},
     "output_type": "execute_result"
    }
   ],
   "source": [
    "# Upload trees\n",
    "# dataset_path = 'serializedGraphs/'\n",
    "dataset_path = 'NewserializedGraphs/'\n",
    "files = os.listdir(dataset_path)\n",
    "\n",
    "# Initiate new df\n",
    "features = ['graph', 'node', 'node_text', 'tokenized_node_text', 'parent', 'parent_text', 'tokenized_parent_text', \n",
    "            'node_children','parent_children', 'depth', 'votes', 'root_time_dif', 'parent_time_dif', 'edited', \n",
    "            'polarity', 'distance']\n",
    "main_df = pd.DataFrame(columns=features)\n",
    "problem_graphs = []\n",
    "# create temporary df for each tree\n",
    "for file in files:\n",
    "    data = pkl.load(open(dataset_path + file, 'rb'))\n",
    "    df = pd.DataFrame(columns=features[:-1])\n",
    "    root_node = file.split('.')[0] + '.0'\n",
    "    root_text = data.nodes[root_node]['text']\n",
    "    question = 0\n",
    "    answers = []\n",
    "    if len(root_text) == 0:\n",
    "        root_node = list(data.predecessors(root_node))[0]\n",
    "        root_text = data.nodes[root_node]['text']\n",
    "    if '?' in root_text:\n",
    "        question = 1\n",
    "        answers = list(data.predecessors(root_node))\n",
    "    root_time = int(data.nodes[root_node]['created']/1000)\n",
    "    vote_scores = np.array([1, 2, 3, 4, 5]).reshape(-1,1)\n",
    "    # iterate through each node in the tree, ignoring the root nodes (0,1)\n",
    "    for i, idx in enumerate(data.nodes()):\n",
    "        # .0 node will have no parent, do not include in dataset\n",
    "        if '.0' in idx:\n",
    "            pass\n",
    "        # root node will have no parent, do not include in dataset\n",
    "        elif root_node == idx:\n",
    "            pass\n",
    "        # answers to debate questions have no polarity, do not include in dataset\n",
    "        elif idx in answers:\n",
    "            pass\n",
    "        # extract features for each node\n",
    "        else:\n",
    "            # graph id\n",
    "            graph = idx.split('.')[0]\n",
    "            # depth, do not consider .0 or actual root node\n",
    "            try:\n",
    "                depth = len(nx.shortest_path(data, source=idx, target=str(graph) + '.0')) - 2\n",
    "            # dealing with cyclical nodes that do not reach the root\n",
    "            except:\n",
    "#                 print(idx)\n",
    "                if graph not in problem_graphs:\n",
    "                    problem_graphs.append(graph)\n",
    "                depth = -1\n",
    "problem_graphs"
   ]
  },
  {
   "cell_type": "code",
   "execution_count": 23,
   "metadata": {},
   "outputs": [
    {
     "name": "stdout",
     "output_type": "stream",
     "text": [
      "10223.1217 parent = 10223.1218\n",
      "10223.1218 parent = 10223.1230\n",
      "10223.1230 parent = 10223.1217\n"
     ]
    }
   ],
   "source": [
    "data = pkl.load(open(dataset_path + '10223.pkl', 'rb'))\n",
    "\n",
    "print('10223.1217 parent = ' + list(data.successors('10223.1217'))[0])\n",
    "print('10223.1218 parent = ' + list(data.successors('10223.1218'))[0])\n",
    "print('10223.1230 parent = ' + list(data.successors('10223.1230'))[0])"
   ]
  },
  {
   "cell_type": "code",
   "execution_count": 24,
   "metadata": {},
   "outputs": [
    {
     "data": {
      "text/plain": [
       "-1"
      ]
     },
     "execution_count": 24,
     "metadata": {},
     "output_type": "execute_result"
    }
   ],
   "source": [
    "data.edges['10223.1230', '10223.1217']['weight']"
   ]
  },
  {
   "cell_type": "code",
   "execution_count": 25,
   "metadata": {},
   "outputs": [
    {
     "name": "stdout",
     "output_type": "stream",
     "text": [
      "There are standard arguments that all religions make, including belief by faith, that the doctrine claims that it is true, personal experience, and that the leaders and followers believe in the doctrine. Since these arguments are common in all religions, and not all religions can be correct, it is safe to say that these arguments are not sufficient evidence.\n",
      "The eyewitnesses of Jesus's life and his resurrection have been carefully documented by men named Matthew, Mark, Luke, John and Peter. Their testimonies have been well preserved over the ages.\n",
      "The assertions of Christianity are supported by empirical evidence.\n",
      "Religious Faith \\(Theology\\) and Science Can Co-exist.\n"
     ]
    }
   ],
   "source": [
    "data = pkl.load(open(dataset_path + '10223.pkl', 'rb'))\n",
    "\n",
    "print(data.nodes['10223.1217']['text'])\n",
    "\n",
    "print(data.nodes['10223.1218']['text'])\n",
    "\n",
    "print(data.nodes['10223.1230']['text'])\n",
    "\n",
    "print(data.nodes['10223.1']['text'])"
   ]
  },
  {
   "cell_type": "code",
   "execution_count": 9,
   "metadata": {
    "scrolled": true
   },
   "outputs": [
    {
     "data": {
      "text/plain": [
       "[('10223.1217', '10223.1218', 'forward'),\n",
       " ('10223.1218', '10223.1230', 'forward'),\n",
       " ('10223.1230', '10223.1217', 'forward')]"
      ]
     },
     "execution_count": 9,
     "metadata": {},
     "output_type": "execute_result"
    }
   ],
   "source": [
    "nx.find_cycle(data, source = '10223.1217', orientation=\"original\")"
   ]
  },
  {
   "cell_type": "markdown",
   "metadata": {},
   "source": [
    "## Repeat Text"
   ]
  },
  {
   "cell_type": "code",
   "execution_count": 26,
   "metadata": {},
   "outputs": [],
   "source": [
    "scores_df = pd.read_csv('all_samples_prediction_score.csv')\n",
    "same_nodes = list(scores_df.index[scores_df['sentence2'] == scores_df.loc[484]['sentence2']])"
   ]
  },
  {
   "cell_type": "code",
   "execution_count": null,
   "metadata": {},
   "outputs": [],
   "source": []
  },
  {
   "cell_type": "code",
   "execution_count": 27,
   "metadata": {},
   "outputs": [
    {
     "name": "stdout",
     "output_type": "stream",
     "text": [
      "4615.312 4615.436\n",
      "Population control is necessary to prevent human extinction.\n",
      "\n",
      "\n",
      "9226.633 9226.634\n",
      "The Earth may in fact [not be overpopulated](http://www.kialo.com/global-overpopulation-is-a-myth-9226).\n",
      "\n",
      "\n",
      "15434.349 15434.3527\n",
      "This regulation made overpopulation worse. [Overpopulation](http://churchandstate.org.uk/2015/12/how-religion-is-making-overpopulation-worse/) is the main cause of many major problems around the world.\n",
      "\n",
      "\n",
      "15434.391 15434.448\n",
      "This regulation made overpopulation worse. [Overpopulation](http://churchandstate.org.uk/2015/12/how-religion-is-making-overpopulation-worse/) is the main cause of many major problems around the world.\n",
      "\n",
      "\n",
      "15434.158 15434.184\n",
      "This regulation made overpopulation worse. [Overpopulation](http://churchandstate.org.uk/2015/12/how-religion-is-making-overpopulation-worse/) is the main cause of many major problems around the world.\n",
      "\n",
      "\n",
      "15434.12525 15434.12611\n",
      "This regulation made overpopulation worse. [Overpopulation](http://churchandstate.org.uk/2015/12/how-religion-is-making-overpopulation-worse/) is the main cause of many major problems around the world.\n",
      "\n",
      "\n",
      "15434.2309 15434.2346\n",
      "This regulation made overpopulation worse. [Overpopulation](http://churchandstate.org.uk/2015/12/how-religion-is-making-overpopulation-worse/) is the main cause of many major problems around the world.\n",
      "\n",
      "\n",
      "15434.5541 15434.5599\n",
      "This regulation made overpopulation worse. [Overpopulation](http://churchandstate.org.uk/2015/12/how-religion-is-making-overpopulation-worse/) is the main cause of many major problems around the world.\n",
      "\n",
      "\n",
      "15434.495 15434.4977\n",
      "This regulation made overpopulation worse. [Overpopulation](http://churchandstate.org.uk/2015/12/how-religion-is-making-overpopulation-worse/) is the main cause of many major problems around the world.\n",
      "\n",
      "\n",
      "3143.4 3143.318\n",
      "Every human puts a great strain on the environment through consumption.\n",
      "\n",
      "\n",
      "12750.8 12750.57\n",
      "Population growth puts pressure onto communities to expand their borders .[fightaging.org](https://www.fightaging.org/archives/2005/02/superlongevity-without-overpopulation-1/)\n",
      "\n",
      "\n",
      "1291.2059 1291.2101\n",
      "Humans are already at unsustainable population numbers while Gorillas are not: saving starving children only makes [overpopulation](https://en.wikipedia.org/wiki/Malthusian_trap) worse.\n",
      "\n",
      "\n",
      "2495.349 2495.364\n",
      "The Earth may in fact [not be overpopulated](http://www.kialo.com/global-overpopulation-is-a-myth-9226).\n",
      "\n",
      "\n",
      "9967.765 9967.7736\n",
      "This regulation made overpopulation worse. [Overpopulation](http://churchandstate.org.uk/2015/12/how-religion-is-making-overpopulation-worse/) is the main cause of many major problems around the world.\n",
      "\n",
      "\n",
      "9967.25 9967.2586\n",
      "This regulation made overpopulation worse. [Overpopulation](http://churchandstate.org.uk/2015/12/how-religion-is-making-overpopulation-worse/) is the main cause of many major problems around the world.\n",
      "\n",
      "\n",
      "8539.174 8539.26\n",
      "This regulation made overpopulation worse. [Overpopulation](http://churchandstate.org.uk/2015/12/how-religion-is-making-overpopulation-worse/) is the main cause of many major problems around the world.\n",
      "\n",
      "\n",
      "16716.43 16716.5\n",
      "By throwing money at the \"problem\" \\(the poor\\), root problems like overpopulation and a lack of education will not be solved.\n",
      "\n",
      "\n",
      "2214.4012 2214.4139\n",
      "Helping less fortunate people survive is neither in humanity's, nor the planet's, [best interest](https://www.independent.co.uk/environment/overpopulation-is-main-threat-to-planet-521925.html), as the planet is overpopulated. If humanity stopped insisting that we save everyone, there would be fewer of us, and more resources to go around.\n",
      "\n",
      "\n"
     ]
    }
   ],
   "source": [
    "for node in same_nodes:\n",
    "    print(scores_df.loc[node]['parent_node_id'], scores_df.loc[node]['child_node_id'])\n",
    "    print(scores_df.loc[node]['sentence1'])\n",
    "    print('\\n')"
   ]
  },
  {
   "cell_type": "markdown",
   "metadata": {},
   "source": [
    "## Unused and Overused Texts"
   ]
  },
  {
   "cell_type": "code",
   "execution_count": 115,
   "metadata": {},
   "outputs": [],
   "source": [
    "scores_df = pd.read_csv('all_samples_prediction_score.csv')"
   ]
  },
  {
   "cell_type": "code",
   "execution_count": 116,
   "metadata": {},
   "outputs": [
    {
     "data": {
      "text/html": [
       "<div>\n",
       "<style scoped>\n",
       "    .dataframe tbody tr th:only-of-type {\n",
       "        vertical-align: middle;\n",
       "    }\n",
       "\n",
       "    .dataframe tbody tr th {\n",
       "        vertical-align: top;\n",
       "    }\n",
       "\n",
       "    .dataframe thead th {\n",
       "        text-align: right;\n",
       "    }\n",
       "</style>\n",
       "<table border=\"1\" class=\"dataframe\">\n",
       "  <thead>\n",
       "    <tr style=\"text-align: right;\">\n",
       "      <th></th>\n",
       "      <th>parent_node_id</th>\n",
       "      <th>child_node_id</th>\n",
       "      <th>sentence1</th>\n",
       "      <th>sentence2</th>\n",
       "      <th>label</th>\n",
       "      <th>score_1</th>\n",
       "      <th>score_2</th>\n",
       "      <th>duplicate</th>\n",
       "    </tr>\n",
       "  </thead>\n",
       "  <tbody>\n",
       "    <tr>\n",
       "      <th>25</th>\n",
       "      <td>5946.98</td>\n",
       "      <td>5946.1</td>\n",
       "      <td>Currently, Bitcoin's worth is speculative as i...</td>\n",
       "      <td>Once the initial excitement and ambiguity surr...</td>\n",
       "      <td>1</td>\n",
       "      <td>0.003119</td>\n",
       "      <td>0.996881</td>\n",
       "      <td>True</td>\n",
       "    </tr>\n",
       "    <tr>\n",
       "      <th>34</th>\n",
       "      <td>5946.10</td>\n",
       "      <td>5946.2</td>\n",
       "      <td>Bitcoin's worth is entirely speculative.</td>\n",
       "      <td>Bitcoin's price is rising steadily.</td>\n",
       "      <td>1</td>\n",
       "      <td>0.627580</td>\n",
       "      <td>0.372420</td>\n",
       "      <td>True</td>\n",
       "    </tr>\n",
       "    <tr>\n",
       "      <th>36</th>\n",
       "      <td>5946.10</td>\n",
       "      <td>5946.4</td>\n",
       "      <td>Bitcoin's worth is entirely speculative.</td>\n",
       "      <td>Bitcoin are mined simply for the purpose of cr...</td>\n",
       "      <td>1</td>\n",
       "      <td>0.461843</td>\n",
       "      <td>0.538157</td>\n",
       "      <td>True</td>\n",
       "    </tr>\n",
       "    <tr>\n",
       "      <th>69</th>\n",
       "      <td>16592.50</td>\n",
       "      <td>16592.7</td>\n",
       "      <td>Patients can not get the drug on their own, th...</td>\n",
       "      <td>There is a black market for prescription drugs...</td>\n",
       "      <td>1</td>\n",
       "      <td>0.306365</td>\n",
       "      <td>0.693635</td>\n",
       "      <td>True</td>\n",
       "    </tr>\n",
       "    <tr>\n",
       "      <th>71</th>\n",
       "      <td>16592.10</td>\n",
       "      <td>16592.5</td>\n",
       "      <td>Drugs should not be directly marketed to custo...</td>\n",
       "      <td>Patients can not get the drug on their own, th...</td>\n",
       "      <td>1</td>\n",
       "      <td>0.656375</td>\n",
       "      <td>0.343625</td>\n",
       "      <td>True</td>\n",
       "    </tr>\n",
       "    <tr>\n",
       "      <th>...</th>\n",
       "      <td>...</td>\n",
       "      <td>...</td>\n",
       "      <td>...</td>\n",
       "      <td>...</td>\n",
       "      <td>...</td>\n",
       "      <td>...</td>\n",
       "      <td>...</td>\n",
       "      <td>...</td>\n",
       "    </tr>\n",
       "    <tr>\n",
       "      <th>324345</th>\n",
       "      <td>18740.10</td>\n",
       "      <td>18740.5</td>\n",
       "      <td>Intentional childlessness is a sin.</td>\n",
       "      <td>As a teen, Mary probably didn't want to be pre...</td>\n",
       "      <td>1</td>\n",
       "      <td>0.664018</td>\n",
       "      <td>0.335982</td>\n",
       "      <td>True</td>\n",
       "    </tr>\n",
       "    <tr>\n",
       "      <th>324346</th>\n",
       "      <td>18740.10</td>\n",
       "      <td>18740.4</td>\n",
       "      <td>Intentional childlessness is a sin.</td>\n",
       "      <td>Pregnancy could be too risky for the mother.</td>\n",
       "      <td>1</td>\n",
       "      <td>0.001652</td>\n",
       "      <td>0.998348</td>\n",
       "      <td>True</td>\n",
       "    </tr>\n",
       "    <tr>\n",
       "      <th>324348</th>\n",
       "      <td>18740.10</td>\n",
       "      <td>18740.2</td>\n",
       "      <td>Intentional childlessness is a sin.</td>\n",
       "      <td>Couples may not have the resources to properly...</td>\n",
       "      <td>1</td>\n",
       "      <td>0.001601</td>\n",
       "      <td>0.998399</td>\n",
       "      <td>True</td>\n",
       "    </tr>\n",
       "    <tr>\n",
       "      <th>324353</th>\n",
       "      <td>18740.19</td>\n",
       "      <td>18740.3</td>\n",
       "      <td>As spreading the faith is a fundamental tenet ...</td>\n",
       "      <td>\"And do not think you can say to yourselves, '...</td>\n",
       "      <td>1</td>\n",
       "      <td>0.002964</td>\n",
       "      <td>0.997036</td>\n",
       "      <td>True</td>\n",
       "    </tr>\n",
       "    <tr>\n",
       "      <th>324363</th>\n",
       "      <td>18740.30</td>\n",
       "      <td>18740.1</td>\n",
       "      <td>God commands Christians to \"be fruitful and mu...</td>\n",
       "      <td>This was a command given to Adam and Eve in Ge...</td>\n",
       "      <td>1</td>\n",
       "      <td>0.995952</td>\n",
       "      <td>0.004048</td>\n",
       "      <td>True</td>\n",
       "    </tr>\n",
       "  </tbody>\n",
       "</table>\n",
       "<p>22867 rows × 8 columns</p>\n",
       "</div>"
      ],
      "text/plain": [
       "        parent_node_id  child_node_id  \\\n",
       "25             5946.98         5946.1   \n",
       "34             5946.10         5946.2   \n",
       "36             5946.10         5946.4   \n",
       "69            16592.50        16592.7   \n",
       "71            16592.10        16592.5   \n",
       "...                ...            ...   \n",
       "324345        18740.10        18740.5   \n",
       "324346        18740.10        18740.4   \n",
       "324348        18740.10        18740.2   \n",
       "324353        18740.19        18740.3   \n",
       "324363        18740.30        18740.1   \n",
       "\n",
       "                                                sentence1  \\\n",
       "25      Currently, Bitcoin's worth is speculative as i...   \n",
       "34               Bitcoin's worth is entirely speculative.   \n",
       "36               Bitcoin's worth is entirely speculative.   \n",
       "69      Patients can not get the drug on their own, th...   \n",
       "71      Drugs should not be directly marketed to custo...   \n",
       "...                                                   ...   \n",
       "324345                Intentional childlessness is a sin.   \n",
       "324346                Intentional childlessness is a sin.   \n",
       "324348                Intentional childlessness is a sin.   \n",
       "324353  As spreading the faith is a fundamental tenet ...   \n",
       "324363  God commands Christians to \"be fruitful and mu...   \n",
       "\n",
       "                                                sentence2  label   score_1  \\\n",
       "25      Once the initial excitement and ambiguity surr...      1  0.003119   \n",
       "34                    Bitcoin's price is rising steadily.      1  0.627580   \n",
       "36      Bitcoin are mined simply for the purpose of cr...      1  0.461843   \n",
       "69      There is a black market for prescription drugs...      1  0.306365   \n",
       "71      Patients can not get the drug on their own, th...      1  0.656375   \n",
       "...                                                   ...    ...       ...   \n",
       "324345  As a teen, Mary probably didn't want to be pre...      1  0.664018   \n",
       "324346       Pregnancy could be too risky for the mother.      1  0.001652   \n",
       "324348  Couples may not have the resources to properly...      1  0.001601   \n",
       "324353  \"And do not think you can say to yourselves, '...      1  0.002964   \n",
       "324363  This was a command given to Adam and Eve in Ge...      1  0.995952   \n",
       "\n",
       "         score_2  duplicate  \n",
       "25      0.996881       True  \n",
       "34      0.372420       True  \n",
       "36      0.538157       True  \n",
       "69      0.693635       True  \n",
       "71      0.343625       True  \n",
       "...          ...        ...  \n",
       "324345  0.335982       True  \n",
       "324346  0.998348       True  \n",
       "324348  0.998399       True  \n",
       "324353  0.997036       True  \n",
       "324363  0.004048       True  \n",
       "\n",
       "[22867 rows x 8 columns]"
      ]
     },
     "execution_count": 116,
     "metadata": {},
     "output_type": "execute_result"
    }
   ],
   "source": [
    "scores_df['duplicate'] = scores_df.duplicated(subset=['child_node_id'])\n",
    "scores_df[scores_df['duplicate'] == True]"
   ]
  },
  {
   "cell_type": "code",
   "execution_count": 114,
   "metadata": {
    "scrolled": true
   },
   "outputs": [
    {
     "ename": "KeyError",
     "evalue": "Index(['child_node_id'], dtype='object')",
     "output_type": "error",
     "traceback": [
      "\u001b[1;31m---------------------------------------------------------------------------\u001b[0m",
      "\u001b[1;31mKeyError\u001b[0m                                  Traceback (most recent call last)",
      "Input \u001b[1;32mIn [114]\u001b[0m, in \u001b[0;36m<cell line: 1>\u001b[1;34m()\u001b[0m\n\u001b[1;32m----> 1\u001b[0m scores_df[\u001b[38;5;124m'\u001b[39m\u001b[38;5;124mduplicate\u001b[39m\u001b[38;5;124m'\u001b[39m] \u001b[38;5;241m=\u001b[39m \u001b[43mscores_df\u001b[49m\u001b[38;5;241;43m.\u001b[39;49m\u001b[43mduplicated\u001b[49m\u001b[43m(\u001b[49m\u001b[43msubset\u001b[49m\u001b[38;5;241;43m=\u001b[39;49m\u001b[43m[\u001b[49m\u001b[38;5;124;43m'\u001b[39;49m\u001b[38;5;124;43mchild_node_id\u001b[39;49m\u001b[38;5;124;43m'\u001b[39;49m\u001b[43m]\u001b[49m\u001b[43m)\u001b[49m\n\u001b[0;32m      2\u001b[0m scores_df[scores_df[\u001b[38;5;124m'\u001b[39m\u001b[38;5;124mduplicate\u001b[39m\u001b[38;5;124m'\u001b[39m] \u001b[38;5;241m==\u001b[39m \u001b[38;5;28;01mTrue\u001b[39;00m]\n",
      "File \u001b[1;32mc:\\users\\ziv\\appdata\\local\\programs\\python\\python38\\lib\\site-packages\\pandas\\core\\frame.py:6250\u001b[0m, in \u001b[0;36mDataFrame.duplicated\u001b[1;34m(self, subset, keep)\u001b[0m\n\u001b[0;32m   6248\u001b[0m diff \u001b[38;5;241m=\u001b[39m Index(subset)\u001b[38;5;241m.\u001b[39mdifference(\u001b[38;5;28mself\u001b[39m\u001b[38;5;241m.\u001b[39mcolumns)\n\u001b[0;32m   6249\u001b[0m \u001b[38;5;28;01mif\u001b[39;00m \u001b[38;5;129;01mnot\u001b[39;00m diff\u001b[38;5;241m.\u001b[39mempty:\n\u001b[1;32m-> 6250\u001b[0m     \u001b[38;5;28;01mraise\u001b[39;00m \u001b[38;5;167;01mKeyError\u001b[39;00m(diff)\n\u001b[0;32m   6252\u001b[0m vals \u001b[38;5;241m=\u001b[39m (col\u001b[38;5;241m.\u001b[39mvalues \u001b[38;5;28;01mfor\u001b[39;00m name, col \u001b[38;5;129;01min\u001b[39;00m \u001b[38;5;28mself\u001b[39m\u001b[38;5;241m.\u001b[39mitems() \u001b[38;5;28;01mif\u001b[39;00m name \u001b[38;5;129;01min\u001b[39;00m subset)\n\u001b[0;32m   6253\u001b[0m labels, shape \u001b[38;5;241m=\u001b[39m \u001b[38;5;28mmap\u001b[39m(\u001b[38;5;28mlist\u001b[39m, \u001b[38;5;28mzip\u001b[39m(\u001b[38;5;241m*\u001b[39m\u001b[38;5;28mmap\u001b[39m(f, vals)))\n",
      "\u001b[1;31mKeyError\u001b[0m: Index(['child_node_id'], dtype='object')"
     ]
    }
   ],
   "source": [
    "scores_df['duplicate'] = scores_df.duplicated(subset=['parent_node_id'])\n",
    "scores_df[scores_df['duplicate'] == True]"
   ]
  },
  {
   "cell_type": "markdown",
   "metadata": {},
   "source": [
    "## Unused and Overused Texts 2"
   ]
  },
  {
   "cell_type": "code",
   "execution_count": 131,
   "metadata": {},
   "outputs": [
    {
     "data": {
      "text/html": [
       "<div>\n",
       "<style scoped>\n",
       "    .dataframe tbody tr th:only-of-type {\n",
       "        vertical-align: middle;\n",
       "    }\n",
       "\n",
       "    .dataframe tbody tr th {\n",
       "        vertical-align: top;\n",
       "    }\n",
       "\n",
       "    .dataframe thead th {\n",
       "        text-align: right;\n",
       "    }\n",
       "</style>\n",
       "<table border=\"1\" class=\"dataframe\">\n",
       "  <thead>\n",
       "    <tr style=\"text-align: right;\">\n",
       "      <th></th>\n",
       "      <th>node_id_1</th>\n",
       "      <th>sentence_1</th>\n",
       "      <th>node_id_2</th>\n",
       "      <th>sentence_2</th>\n",
       "      <th>label</th>\n",
       "      <th>duplicate</th>\n",
       "    </tr>\n",
       "  </thead>\n",
       "  <tbody>\n",
       "  </tbody>\n",
       "</table>\n",
       "</div>"
      ],
      "text/plain": [
       "Empty DataFrame\n",
       "Columns: [node_id_1, sentence_1, node_id_2, sentence_2, label, duplicate]\n",
       "Index: []"
      ]
     },
     "execution_count": 131,
     "metadata": {},
     "output_type": "execute_result"
    }
   ],
   "source": [
    "scores_df = pd.read_csv('node_id_sentence.csv', dtype={'node_id_1': str, 'node_id_2': str})\n",
    "scores_df['duplicate'] = scores_df.duplicated(subset=['node_id_2'])\n",
    "scores_df[scores_df['duplicate'] == True]"
   ]
  },
  {
   "cell_type": "code",
   "execution_count": 133,
   "metadata": {},
   "outputs": [
    {
     "data": {
      "text/html": [
       "<div>\n",
       "<style scoped>\n",
       "    .dataframe tbody tr th:only-of-type {\n",
       "        vertical-align: middle;\n",
       "    }\n",
       "\n",
       "    .dataframe tbody tr th {\n",
       "        vertical-align: top;\n",
       "    }\n",
       "\n",
       "    .dataframe thead th {\n",
       "        text-align: right;\n",
       "    }\n",
       "</style>\n",
       "<table border=\"1\" class=\"dataframe\">\n",
       "  <thead>\n",
       "    <tr style=\"text-align: right;\">\n",
       "      <th></th>\n",
       "      <th>node_id_1</th>\n",
       "      <th>sentence_1</th>\n",
       "      <th>node_id_2</th>\n",
       "      <th>sentence_2</th>\n",
       "      <th>label</th>\n",
       "      <th>duplicate</th>\n",
       "    </tr>\n",
       "  </thead>\n",
       "  <tbody>\n",
       "    <tr>\n",
       "      <th>324353</th>\n",
       "      <td>18740.19</td>\n",
       "      <td>As spreading the faith is a fundamental tenet ...</td>\n",
       "      <td>18740.30</td>\n",
       "      <td>\"And do not think you can say to yourselves, '...</td>\n",
       "      <td>0</td>\n",
       "      <td>False</td>\n",
       "    </tr>\n",
       "  </tbody>\n",
       "</table>\n",
       "</div>"
      ],
      "text/plain": [
       "       node_id_1                                         sentence_1 node_id_2  \\\n",
       "324353  18740.19  As spreading the faith is a fundamental tenet ...  18740.30   \n",
       "\n",
       "                                               sentence_2  label  duplicate  \n",
       "324353  \"And do not think you can say to yourselves, '...      0      False  "
      ]
     },
     "execution_count": 133,
     "metadata": {},
     "output_type": "execute_result"
    }
   ],
   "source": [
    "scores_df[scores_df['node_id_2'] == '18740.30']"
   ]
  },
  {
   "cell_type": "code",
   "execution_count": 120,
   "metadata": {},
   "outputs": [
    {
     "data": {
      "text/html": [
       "<div>\n",
       "<style scoped>\n",
       "    .dataframe tbody tr th:only-of-type {\n",
       "        vertical-align: middle;\n",
       "    }\n",
       "\n",
       "    .dataframe tbody tr th {\n",
       "        vertical-align: top;\n",
       "    }\n",
       "\n",
       "    .dataframe thead th {\n",
       "        text-align: right;\n",
       "    }\n",
       "</style>\n",
       "<table border=\"1\" class=\"dataframe\">\n",
       "  <thead>\n",
       "    <tr style=\"text-align: right;\">\n",
       "      <th></th>\n",
       "      <th>node_id_1</th>\n",
       "      <th>sentence_1</th>\n",
       "      <th>node_id_2</th>\n",
       "      <th>sentence_2</th>\n",
       "      <th>label</th>\n",
       "    </tr>\n",
       "  </thead>\n",
       "  <tbody>\n",
       "    <tr>\n",
       "      <th>324347</th>\n",
       "      <td>18740.10</td>\n",
       "      <td>Intentional childlessness is a sin.</td>\n",
       "      <td>18740.3</td>\n",
       "      <td>God commands Christians to \"be fruitful and mu...</td>\n",
       "      <td>1</td>\n",
       "    </tr>\n",
       "    <tr>\n",
       "      <th>324353</th>\n",
       "      <td>18740.19</td>\n",
       "      <td>As spreading the faith is a fundamental tenet ...</td>\n",
       "      <td>18740.3</td>\n",
       "      <td>\"And do not think you can say to yourselves, '...</td>\n",
       "      <td>0</td>\n",
       "    </tr>\n",
       "  </tbody>\n",
       "</table>\n",
       "</div>"
      ],
      "text/plain": [
       "        node_id_1                                         sentence_1  \\\n",
       "324347   18740.10                Intentional childlessness is a sin.   \n",
       "324353   18740.19  As spreading the faith is a fundamental tenet ...   \n",
       "\n",
       "        node_id_2                                         sentence_2  label  \n",
       "324347    18740.3  God commands Christians to \"be fruitful and mu...      1  \n",
       "324353    18740.3  \"And do not think you can say to yourselves, '...      0  "
      ]
     },
     "execution_count": 120,
     "metadata": {},
     "output_type": "execute_result"
    }
   ],
   "source": [
    "scores_df = pd.read_csv('node_id_sentence.csv')\n",
    "scores_df[scores_df['node_id_2'] == 18740.3]"
   ]
  },
  {
   "cell_type": "code",
   "execution_count": 129,
   "metadata": {},
   "outputs": [
    {
     "name": "stdout",
     "output_type": "stream",
     "text": [
      "18740.3 parent is: ['18740.1']\n",
      "Node 18740.3 text:\n",
      "God commands Christians to \"be fruitful and multiply.\"[Genesis 1:28](https://biblehub.com/genesis/1-28.htm)\n",
      "Node 18740.10 text:\n",
      "This was a command given to Adam and Eve in Genesis 1:28, and to Noah after the flood in Genesis 9:1. In both cases, there was nobody else on the earth and God commands them to \"replenish the earth.\" That command was specifically for them in the context of needing to populate the earth.\n",
      "Node 18740.19 text:\n",
      "\"And do not think you can say to yourselves, 'We have Abraham as our father.' I tell you that out of these stones God can raise up children for Abraham.\" -Matthew 3:9 \\(NIV\\)\n",
      "[('18740.3', '18740.1')]\n"
     ]
    }
   ],
   "source": [
    "dataset_path = 'NewserializedGraphs/'\n",
    "data = pkl.load(open(dataset_path + '18740.pkl', 'rb'))\n",
    "\n",
    "print('18740.3 parent is: ' + str(list(data.successors('18740.3'))))\n",
    "print('Node 18740.3 text:')\n",
    "print(data.nodes['18740.3']['text'])\n",
    "print('Node 18740.10 text:')\n",
    "print(data.nodes['18740.10']['text'])\n",
    "print('Node 18740.19 text:')\n",
    "print(data.nodes['18740.30']['text'])\n",
    "print(data.edges('18740.3'))"
   ]
  },
  {
   "cell_type": "code",
   "execution_count": 128,
   "metadata": {},
   "outputs": [
    {
     "data": {
      "text/html": [
       "<div>\n",
       "<style scoped>\n",
       "    .dataframe tbody tr th:only-of-type {\n",
       "        vertical-align: middle;\n",
       "    }\n",
       "\n",
       "    .dataframe tbody tr th {\n",
       "        vertical-align: top;\n",
       "    }\n",
       "\n",
       "    .dataframe thead th {\n",
       "        text-align: right;\n",
       "    }\n",
       "</style>\n",
       "<table border=\"1\" class=\"dataframe\">\n",
       "  <thead>\n",
       "    <tr style=\"text-align: right;\">\n",
       "      <th></th>\n",
       "      <th>node_id_1</th>\n",
       "      <th>sentence_1</th>\n",
       "      <th>node_id_2</th>\n",
       "      <th>sentence_2</th>\n",
       "      <th>label</th>\n",
       "    </tr>\n",
       "  </thead>\n",
       "  <tbody>\n",
       "    <tr>\n",
       "      <th>56</th>\n",
       "      <td>16592.49</td>\n",
       "      <td>People have limited information about many cho...</td>\n",
       "      <td>16592.5</td>\n",
       "      <td>Given that the field of medicine is technical ...</td>\n",
       "      <td>0</td>\n",
       "    </tr>\n",
       "    <tr>\n",
       "      <th>71</th>\n",
       "      <td>16592.10</td>\n",
       "      <td>Drugs should not be directly marketed to custo...</td>\n",
       "      <td>16592.5</td>\n",
       "      <td>Patients can not get the drug on their own, th...</td>\n",
       "      <td>0</td>\n",
       "    </tr>\n",
       "  </tbody>\n",
       "</table>\n",
       "</div>"
      ],
      "text/plain": [
       "    node_id_1                                         sentence_1  node_id_2  \\\n",
       "56   16592.49  People have limited information about many cho...    16592.5   \n",
       "71   16592.10  Drugs should not be directly marketed to custo...    16592.5   \n",
       "\n",
       "                                           sentence_2  label  \n",
       "56  Given that the field of medicine is technical ...      0  \n",
       "71  Patients can not get the drug on their own, th...      0  "
      ]
     },
     "execution_count": 128,
     "metadata": {},
     "output_type": "execute_result"
    }
   ],
   "source": [
    "scores_df = pd.read_csv('node_id_sentence.csv')\n",
    "scores_df[scores_df['node_id_2'] == 16592.5]"
   ]
  },
  {
   "cell_type": "code",
   "execution_count": 127,
   "metadata": {},
   "outputs": [
    {
     "name": "stdout",
     "output_type": "stream",
     "text": [
      "16592.5 parent is: ['16592.1']\n",
      "Node 16592.5 text:\n",
      "Patients can not get the drug on their own, they need to visit medical practicioner, who will make decision based on objective facts.\n",
      "Node 16592.10 text:\n",
      "There exists black market for prescription drugs which allows one to obtain the drug that was denied by the doctor.\n",
      "Node 16592.49 text:\n",
      "People have limited information about many choices they make. Yet, they are still allowed to make those choices.\n"
     ]
    }
   ],
   "source": [
    "dataset_path = 'NewserializedGraphs/'\n",
    "data = pkl.load(open(dataset_path + '16592.pkl', 'rb'))\n",
    "\n",
    "print('16592.5 parent is: ' + str(list(data.successors('16592.5'))))\n",
    "print('Node 16592.5 text:')\n",
    "print(data.nodes['16592.5']['text'])\n",
    "print('Node 16592.10 text:')\n",
    "print(data.nodes['16592.10']['text'])\n",
    "print('Node 16592.49 text:')\n",
    "print(data.nodes['16592.49']['text'])"
   ]
  },
  {
   "cell_type": "code",
   "execution_count": 110,
   "metadata": {},
   "outputs": [
    {
     "data": {
      "text/plain": [
       "(['16592.9'], [])"
      ]
     },
     "execution_count": 110,
     "metadata": {},
     "output_type": "execute_result"
    }
   ],
   "source": [
    "list(data.successors('16592.10')), list(data.predecessors('16592.10'))"
   ]
  },
  {
   "cell_type": "code",
   "execution_count": 105,
   "metadata": {},
   "outputs": [
    {
     "data": {
      "text/html": [
       "<div>\n",
       "<style scoped>\n",
       "    .dataframe tbody tr th:only-of-type {\n",
       "        vertical-align: middle;\n",
       "    }\n",
       "\n",
       "    .dataframe tbody tr th {\n",
       "        vertical-align: top;\n",
       "    }\n",
       "\n",
       "    .dataframe thead th {\n",
       "        text-align: right;\n",
       "    }\n",
       "</style>\n",
       "<table border=\"1\" class=\"dataframe\">\n",
       "  <thead>\n",
       "    <tr style=\"text-align: right;\">\n",
       "      <th></th>\n",
       "      <th>node_id_1</th>\n",
       "      <th>sentence_1</th>\n",
       "      <th>node_id_2</th>\n",
       "      <th>sentence_2</th>\n",
       "      <th>label</th>\n",
       "    </tr>\n",
       "  </thead>\n",
       "  <tbody>\n",
       "    <tr>\n",
       "      <th>0</th>\n",
       "      <td>5946.1</td>\n",
       "      <td>Bitcoin's worth is entirely speculative.</td>\n",
       "      <td>5946.98</td>\n",
       "      <td>Currently, Bitcoin's worth is speculative as i...</td>\n",
       "      <td>1</td>\n",
       "    </tr>\n",
       "    <tr>\n",
       "      <th>1</th>\n",
       "      <td>5946.9</td>\n",
       "      <td>Copies of the Bitcoin blockchain can, and have...</td>\n",
       "      <td>5946.55</td>\n",
       "      <td>The names are different. It doesn’t double the...</td>\n",
       "      <td>0</td>\n",
       "    </tr>\n",
       "    <tr>\n",
       "      <th>2</th>\n",
       "      <td>5946.5</td>\n",
       "      <td>Bitcoin's Blockchain-technology is easily recr...</td>\n",
       "      <td>5946.48</td>\n",
       "      <td>For worldwide money, you need an industrial-st...</td>\n",
       "      <td>0</td>\n",
       "    </tr>\n",
       "    <tr>\n",
       "      <th>3</th>\n",
       "      <td>5946.3</td>\n",
       "      <td>The blockchain technology makes Bitcoin valuable.</td>\n",
       "      <td>5946.53</td>\n",
       "      <td>Blockchain is one component that doesn’t defin...</td>\n",
       "      <td>1</td>\n",
       "    </tr>\n",
       "    <tr>\n",
       "      <th>4</th>\n",
       "      <td>5946.4</td>\n",
       "      <td>Bitcoin are mined simply for the purpose of cr...</td>\n",
       "      <td>5946.13</td>\n",
       "      <td>Bitcoins are mined as a way to reward people f...</td>\n",
       "      <td>0</td>\n",
       "    </tr>\n",
       "  </tbody>\n",
       "</table>\n",
       "</div>"
      ],
      "text/plain": [
       "   node_id_1                                         sentence_1  node_id_2  \\\n",
       "0     5946.1           Bitcoin's worth is entirely speculative.    5946.98   \n",
       "1     5946.9  Copies of the Bitcoin blockchain can, and have...    5946.55   \n",
       "2     5946.5  Bitcoin's Blockchain-technology is easily recr...    5946.48   \n",
       "3     5946.3  The blockchain technology makes Bitcoin valuable.    5946.53   \n",
       "4     5946.4  Bitcoin are mined simply for the purpose of cr...    5946.13   \n",
       "\n",
       "                                          sentence_2  label  \n",
       "0  Currently, Bitcoin's worth is speculative as i...      1  \n",
       "1  The names are different. It doesn’t double the...      0  \n",
       "2  For worldwide money, you need an industrial-st...      0  \n",
       "3  Blockchain is one component that doesn’t defin...      1  \n",
       "4  Bitcoins are mined as a way to reward people f...      0  "
      ]
     },
     "execution_count": 105,
     "metadata": {},
     "output_type": "execute_result"
    }
   ],
   "source": [
    "scores_df.head()"
   ]
  },
  {
   "cell_type": "code",
   "execution_count": 107,
   "metadata": {},
   "outputs": [
    {
     "name": "stdout",
     "output_type": "stream",
     "text": [
      "5946.98 parent is: ['5946.1']\n",
      "Node 5946.1 text:\n",
      "Bitcoin's worth is entirely speculative.\n",
      "Node 5946.98 text:\n",
      "Currently, Bitcoin's worth is speculative as it is a speculative asset hinged on future implementation by society and real world economics.\n"
     ]
    }
   ],
   "source": [
    "29870"
   ]
  },
  {
   "cell_type": "markdown",
   "metadata": {},
   "source": [
    "## Incorrect text to node, incorrect child to parent, labeling parent as child"
   ]
  },
  {
   "cell_type": "code",
   "execution_count": 42,
   "metadata": {},
   "outputs": [
    {
     "data": {
      "text/plain": [
       "[]"
      ]
     },
     "execution_count": 42,
     "metadata": {},
     "output_type": "execute_result"
    }
   ],
   "source": [
    "dataset_path = 'NewserializedGraphs/'\n",
    "data = pkl.load(open(dataset_path + '5946.pkl', 'rb'))\n",
    "\n",
    "list(data.predecessors('5946.40'))"
   ]
  },
  {
   "cell_type": "code",
   "execution_count": 33,
   "metadata": {},
   "outputs": [
    {
     "name": "stdout",
     "output_type": "stream",
     "text": [
      "Bitcoin can function as a superior store of wealth for certain users because it is [harder](https://www.ccn.com/government-struggle-seize-bitcoin/) for government agencies to track and regulate large sums of money that are held in bitcoin, as opposed to depositing that money in a bank.\n"
     ]
    }
   ],
   "source": [
    "print(data.nodes['5946.40']['text'])"
   ]
  },
  {
   "cell_type": "markdown",
   "metadata": {},
   "source": [
    "## Doc2vec for small trees"
   ]
  },
  {
   "cell_type": "code",
   "execution_count": 44,
   "metadata": {},
   "outputs": [
    {
     "name": "stderr",
     "output_type": "stream",
     "text": [
      "<frozen importlib._bootstrap>:219: RuntimeWarning: scipy._lib.messagestream.MessageStream size changed, may indicate binary incompatibility. Expected 56 from C header, got 64 from PyObject\n"
     ]
    }
   ],
   "source": [
    "# Doc2Vec Model\n",
    "from gensim.models.doc2vec import Doc2Vec as d2v\n",
    "from gensim.models.doc2vec import TaggedDocument\n",
    "from sklearn.linear_model import LogisticRegression\n"
   ]
  },
  {
   "cell_type": "code",
   "execution_count": 52,
   "metadata": {},
   "outputs": [
    {
     "name": "stdout",
     "output_type": "stream",
     "text": [
      "22429.pkl\n"
     ]
    },
    {
     "data": {
      "text/plain": [
       "'22429.1'"
      ]
     },
     "execution_count": 52,
     "metadata": {},
     "output_type": "execute_result"
    }
   ],
   "source": [
    "dataset_path = 'NewserializedGraphs/'\n",
    "files = os.listdir(dataset_path)\n",
    "\n",
    "# Initiate new df\n",
    "features = ['graph', 'node', 'node_text', 'tokenized_node_text', 'parent', 'parent_text', 'tokenized_parent_text', \n",
    "            'node_children','parent_children', 'num_node_sibilings', 'depth', 'votes', 'root_time_dif', 'parent_time_dif', \n",
    "            'comments_from_parent_to_child', 'edited', 'root_is_question', 'polarity', 'distance']\n",
    "main_df = pd.DataFrame(columns=features)\n",
    "\n",
    "# create temporary df for each tree\n",
    "file = '22429.pkl'\n",
    "print(file)\n",
    "data = pkl.load(open(dataset_path + file, 'rb'))\n",
    "df = pd.DataFrame(columns=features[:-1])\n",
    "root_node = file.split('.')[0] + '.0'\n",
    "root_text = data.nodes[root_node]['text']\n",
    "question = 0\n",
    "answers = []\n",
    "if len(root_text) == 0:\n",
    "    root_node = list(data.predecessors(root_node))[0]\n",
    "    root_text = data.nodes[root_node]['text']\n",
    "if '?' in root_text:\n",
    "    question = 1\n",
    "    answers = list(data.predecessors(root_node))\n",
    "root_time = int(data.nodes[root_node]['created']/1000)\n",
    "vote_scores = np.array([1, 2, 3, 4, 5]).reshape(-1,1)\n",
    "# iterate through each node in the tree, ignoring the root nodes (0,1)\n",
    "for i, idx in enumerate(data.nodes()):\n",
    "    # .0 node will have no parent, do not include in dataset\n",
    "    if '.0' in idx:\n",
    "        pass\n",
    "    # root node will have no parent, do not include in dataset\n",
    "    elif root_node == idx:\n",
    "        pass\n",
    "    # answers to debate questions have no polarity, do not include in dataset\n",
    "    elif idx in answers:\n",
    "        pass\n",
    "    # extract features for each node\n",
    "    else:\n",
    "        # graph id\n",
    "        graph = idx.split('.')[0]\n",
    "        # node text\n",
    "        node_text = data.nodes[idx]['text']\n",
    "        tokenized_node_text = prepare_text_for_d2v(node_text)\n",
    "        # parent id \n",
    "        parent = list(data.successors(idx))[0]\n",
    "        # parent text\n",
    "        parent_text = data.nodes[parent]['text']\n",
    "        tokenized_parent_text = prepare_text_for_d2v(parent_text)\n",
    "        # node children id\n",
    "        node_children = list(data.predecessors(idx))\n",
    "        # parent children id\n",
    "        parent_children = list(data.predecessors(parent))\n",
    "        # node number of sibilings\n",
    "        num_sibilings = len(parent_children) - 1\n",
    "        # node votes\n",
    "        votes = np.array(data.nodes[idx]['votes']).reshape(1,-1)\n",
    "        if votes.any() > 0:\n",
    "            average_vote = (votes @ vote_scores)[0,0] / votes.sum()\n",
    "        else:\n",
    "            average_vote = 0\n",
    "        # time dif root\n",
    "        node_time = int(data.nodes[idx]['created']/1000)\n",
    "\n",
    "        root_dif = datetime.utcfromtimestamp(node_time) - datetime.utcfromtimestamp(root_time)\n",
    "        # time dif parent\n",
    "        parent_time = int(data.nodes[parent]['created']/1000)\n",
    "        parent_dif = datetime.utcfromtimestamp(node_time) - datetime.utcfromtimestamp(parent_time)\n",
    "        # comment dif parent\n",
    "        comment_dif = int(idx.split('.')[1]) - int(parent.split('.')[1])\n",
    "        # binary edited column\n",
    "        if node_time == int(data.nodes[idx]['edited']/1000):\n",
    "            edited = 0\n",
    "        else:\n",
    "            edited = 1\n",
    "        # depth, do not consider actual root node\n",
    "        try:\n",
    "            depth = len(nx.shortest_path(data, source=idx, target=root_node)) - 1\n",
    "        # dealing with cyclical nodes that do not reach the root\n",
    "        except:\n",
    "            depth = 0\n",
    "        # polarity from child to parent\n",
    "        polarity = data.edges[idx, parent]['weight']\n",
    "\n",
    "        df.loc[i] = [graph, idx, node_text, tokenized_node_text, parent, parent_text, tokenized_parent_text, \n",
    "                     node_children, parent_children, num_sibilings, depth, average_vote, root_dif, parent_dif, \n",
    "                     comment_dif, edited, question, polarity]\n",
    "# vecotrizing texts and computing distances between children and parents\n",
    "texts = [TaggedDocument(doc, [i]) for i, doc in enumerate(df['tokenized_node_text'])]\n",
    "root_node\n",
    "# build d2v model on entire corpus\n",
    "# try:\n",
    "#     d2v_model = d2v(texts, vector_size=50, alpha=.025, min_alpha=0.00025, workers=8, epochs=200)\n",
    "# except:\n",
    "#     d2v_model = d2v(texts, vector_size=50, alpha=.025, min_alpha=0.00025, workers=8, epochs=200, min_count=1)\n",
    "    \n",
    "# d2v_model = d2v(texts, vector_size=50, alpha=.025, min_alpha=0.00025, workers=8, epochs=200, min_count=1)\n",
    "\n",
    "# def get_vectors(model, texts):\n",
    "#     vectors = [model.infer_vector(text, epochs=200) for text in texts]\n",
    "#     return vectors\n",
    "\n",
    "# children_vecs = np.array(get_vectors(d2v_model, df['tokenized_node_text']))\n",
    "# parent_vecs = np.array(get_vectors(d2v_model, df['tokenized_parent_text']))\n",
    "# distances = np.linalg.norm(children_vecs - parent_vecs, axis=1)\n",
    "# #     norm_distances = min_max_scaler.fit_transform(distances.reshape(-1,1))\n",
    "# norm_distances = (distances - distances.mean()) / distances.std()"
   ]
  },
  {
   "cell_type": "code",
   "execution_count": 53,
   "metadata": {},
   "outputs": [
    {
     "data": {
      "text/plain": [
       "['22429.10',\n",
       " '22429.11',\n",
       " '22429.7',\n",
       " '22429.4',\n",
       " '22429.2',\n",
       " '22429.3',\n",
       " '22429.8',\n",
       " '22429.9']"
      ]
     },
     "execution_count": 53,
     "metadata": {},
     "output_type": "execute_result"
    }
   ],
   "source": [
    "list(data.predecessors('22429.1'))"
   ]
  },
  {
   "cell_type": "code",
   "execution_count": 55,
   "metadata": {},
   "outputs": [
    {
     "data": {
      "text/plain": [
       "['22429.1']"
      ]
     },
     "execution_count": 55,
     "metadata": {},
     "output_type": "execute_result"
    }
   ],
   "source": [
    "list(data.successors('22429.10'))"
   ]
  },
  {
   "cell_type": "code",
   "execution_count": 56,
   "metadata": {},
   "outputs": [
    {
     "data": {
      "text/plain": [
       "1"
      ]
     },
     "execution_count": 56,
     "metadata": {},
     "output_type": "execute_result"
    }
   ],
   "source": [
    "data.edges['22429.10', '22429.1']['weight']"
   ]
  },
  {
   "cell_type": "code",
   "execution_count": 48,
   "metadata": {},
   "outputs": [
    {
     "data": {
      "text/plain": [
       "NodeDataView({'22429.10': {'edited': 1540290028430, 'votes': [0, 0, 0, 0, 0], 'created': 1540290028430, 'text': 'It will be a way for students to learn more about the LGBT lifestyle and how they can help their friends/families to support the group.', 'author': '4aff1d65-7c6a-4c12-acaa-4dc44154febe', 'relation': 1}, '22429.11': {'edited': 1540290106218, 'votes': [0, 0, 0, 0, 0], 'created': 1540290106218, 'text': 'It is unethical and dangerous to manipulate kids into being sexualised.', 'author': '4aff1d65-7c6a-4c12-acaa-4dc44154febe', 'relation': -1}, '22429.7': {'edited': 1540289955354, 'votes': [0, 0, 0, 0, 0], 'created': 1540289955354, 'text': 'It will benefit the LGBT community by giving them first hand support.', 'author': '4aff1d65-7c6a-4c12-acaa-4dc44154febe', 'relation': 1}, '22429.4': {'edited': 1540289908827, 'votes': [0, 0, 0, 0, 0], 'created': 1540289908827, 'text': 'The program overlaps religious freedom at some points in time.', 'author': '4aff1d65-7c6a-4c12-acaa-4dc44154febe', 'relation': 1}, '22429.2': {'edited': 1540289853018, 'votes': [0, 0, 0, 0, 0], 'created': 1540289853018, 'text': 'It is a way of supporting and being inclusive of the LGBT community.', 'author': '4aff1d65-7c6a-4c12-acaa-4dc44154febe', 'relation': 1}, '22429.3': {'edited': 1540289884622, 'votes': [0, 0, 0, 0, 0], 'created': 1540289884622, 'text': 'It is being hidden from the parents.', 'author': '4aff1d65-7c6a-4c12-acaa-4dc44154febe', 'relation': -1}, '22429.0': {'edited': 1540289438879, 'votes': [0, 0, 0, 0, 0], 'created': 1540289438879, 'text': '', 'author': '4aff1d65-7c6a-4c12-acaa-4dc44154febe', 'relation': 0}, '22429.1': {'edited': 1540289439130, 'votes': [0, 0, 0, 0, 0], 'created': 1540289439130, 'text': 'Should Safe Schools Victoria be added in schools again?', 'author': '4aff1d65-7c6a-4c12-acaa-4dc44154febe', 'relation': 0}, '22429.8': {'edited': 1540289973874, 'votes': [0, 0, 0, 0, 0], 'created': 1540289973874, 'text': 'It is a waste of time to students who should be learning properly.', 'author': '4aff1d65-7c6a-4c12-acaa-4dc44154febe', 'relation': -1}, '22429.9': {'edited': 1540290002262, 'votes': [0, 0, 0, 0, 0], 'created': 1540290002262, 'text': 'It can cause dangerous changes to the students including suicide as known that LGBT have a high chance of suicide.', 'author': '4aff1d65-7c6a-4c12-acaa-4dc44154febe', 'relation': -1}})"
      ]
     },
     "execution_count": 48,
     "metadata": {},
     "output_type": "execute_result"
    }
   ],
   "source": [
    "file = '22429.pkl'\n",
    "data = pkl.load(open(dataset_path + file, 'rb'))\n",
    "data.nodes(data=True)"
   ]
  },
  {
   "cell_type": "code",
   "execution_count": null,
   "metadata": {},
   "outputs": [],
   "source": [
    "# loop over files\n",
    "for file in files:\n",
    "    data = pkl.load(open(dataset_path + file, 'rb'))\n",
    "    child_edges = {}\n",
    "    for node_id in data.node.keys():\n",
    "\n",
    "        # baseline data\n",
    "        sentence2 = data.node[node_id]['text']\n",
    "        edge = data.edge[node_id]\n",
    "\n",
    "        if len(edge.keys()) >= 1:\n",
    "            parent_node_id = list(edge.keys())[0]\n",
    "            if edge[parent_node_id]['weight'] == 1:\n",
    "                sentence1 = data.node[parent_node_id]['text']\n",
    "                dataset_samples_baseline.append([parent_node_id, sentence1, node_id, sentence2, 1])\n",
    "            elif edge[parent_node_id]['weight'] == -1:\n",
    "                sentence1 = data.node[parent_node_id]['text']\n",
    "                dataset_samples_baseline.append([parent_node_id, sentence1, node_id,  sentence2, 0])"
   ]
  },
  {
   "cell_type": "markdown",
   "metadata": {},
   "source": [
    "## Node Pairs"
   ]
  },
  {
   "cell_type": "code",
   "execution_count": 104,
   "metadata": {},
   "outputs": [
    {
     "ename": "AttributeError",
     "evalue": "'list' object has no attribute 'keys'",
     "output_type": "error",
     "traceback": [
      "\u001b[1;31m---------------------------------------------------------------------------\u001b[0m",
      "\u001b[1;31mAttributeError\u001b[0m                            Traceback (most recent call last)",
      "Input \u001b[1;32mIn [104]\u001b[0m, in \u001b[0;36m<cell line: 2>\u001b[1;34m()\u001b[0m\n\u001b[0;32m      8\u001b[0m sentence2 \u001b[38;5;241m=\u001b[39m data\u001b[38;5;241m.\u001b[39mnodes[node_id][\u001b[38;5;124m'\u001b[39m\u001b[38;5;124mtext\u001b[39m\u001b[38;5;124m'\u001b[39m]\n\u001b[0;32m      9\u001b[0m edge \u001b[38;5;241m=\u001b[39m \u001b[38;5;28mlist\u001b[39m(data\u001b[38;5;241m.\u001b[39medges(node_id, data\u001b[38;5;241m=\u001b[39m\u001b[38;5;28;01mTrue\u001b[39;00m))\n\u001b[1;32m---> 10\u001b[0m \u001b[38;5;28;01mif\u001b[39;00m \u001b[38;5;28mlen\u001b[39m(\u001b[43medge\u001b[49m\u001b[38;5;241;43m.\u001b[39;49m\u001b[43mkeys\u001b[49m()) \u001b[38;5;241m>\u001b[39m\u001b[38;5;241m=\u001b[39m \u001b[38;5;241m1\u001b[39m:\n\u001b[0;32m     11\u001b[0m     parent_node_id \u001b[38;5;241m=\u001b[39m \u001b[38;5;28mlist\u001b[39m(edge\u001b[38;5;241m.\u001b[39mkeys())[\u001b[38;5;241m0\u001b[39m]\n\u001b[0;32m     12\u001b[0m     \u001b[38;5;28;01mif\u001b[39;00m edge[\u001b[38;5;241m-\u001b[39m\u001b[38;5;241m1\u001b[39m][\u001b[38;5;241m-\u001b[39m\u001b[38;5;241m1\u001b[39m][\u001b[38;5;124m'\u001b[39m\u001b[38;5;124mweight\u001b[39m\u001b[38;5;124m'\u001b[39m] \u001b[38;5;241m==\u001b[39m \u001b[38;5;241m1\u001b[39m:\n",
      "\u001b[1;31mAttributeError\u001b[0m: 'list' object has no attribute 'keys'"
     ]
    }
   ],
   "source": [
    "# loop over files\n",
    "for file in files:\n",
    "    data = pkl.load(open(dataset_path + file, 'rb'))\n",
    "    child_edges = {}\n",
    "    for node_id in data.nodes.keys():\n",
    "\n",
    "        # baseline data\n",
    "        sentence2 = data.nodes[node_id]['text']\n",
    "        edge = list(data.edges(node_id, data=True))\n",
    "        if len(edge.keys()) >= 1:\n",
    "            parent_node_id = list(edge.keys())[0]\n",
    "            if edge[-1][-1]['weight'] == 1:\n",
    "                sentence1 = data.node[parent_node_id]['text']\n",
    "                dataset_samples_baseline.append([parent_node_id, sentence1, node_id, sentence2, 1])\n",
    "            elif edge[-1][-1]['weight'] == -1:\n",
    "                sentence1 = data.node[parent_node_id]['text']\n",
    "                dataset_samples_baseline.append([parent_node_id, sentence1, node_id,  sentence2, 0])"
   ]
  },
  {
   "cell_type": "code",
   "execution_count": null,
   "metadata": {},
   "outputs": [],
   "source": [
    "dataset_path = 'NewserializedGraphs/'\n",
    "files = os.listdir(dataset_path)\n",
    "\n",
    "# Initiate new df\n",
    "features = ['node', 'node_text', 'parent', 'parent_text', 'polarity']\n",
    "main_df = pd.DataFrame(columns=features)\n",
    "\n",
    "# create temporary df for each tree\n",
    "for file in files:\n",
    "    data = pkl.load(open(dataset_path + file, 'rb'))\n",
    "    df = pd.DataFrame(columns=features[:-1])\n",
    "    root_node = file.split('.')[0] + '.0'\n",
    "    root_text = data.nodes[root_node]['text']\n",
    "    question = 0\n",
    "    answers = []\n",
    "    if len(root_text) == 0:\n",
    "        root_node = list(data.predecessors(root_node))[0]\n",
    "        root_text = data.nodes[root_node]['text']\n",
    "    if '?' in root_text:\n",
    "        question = 1\n",
    "        answers = list(data.predecessors(root_node))\n",
    "    # iterate through each node in the tree, ignoring the root nodes (0,1)\n",
    "    for i, idx in enumerate(data.nodes()):\n",
    "        # .0 node will have no parent, do not include in dataset\n",
    "        if '.0' in idx:\n",
    "            pass\n",
    "        # root node will have no parent, do not include in dataset\n",
    "        elif root_node == idx:\n",
    "            pass\n",
    "        # answers to debate questions have no polarity, do not include in dataset\n",
    "        elif idx in answers:\n",
    "            pass\n",
    "        # extract features for each node\n",
    "        else:\n",
    "            # node text\n",
    "            node_text = data.nodes[idx]['text']\n",
    "            tokenized_node_text = prepare_text_for_d2v(node_text)\n",
    "            # parent id \n",
    "            parent = list(data.successors(idx))[0]\n",
    "            # parent text\n",
    "            parent_text = data.nodes[parent]['text']\n",
    "            tokenized_parent_text = prepare_text_for_d2v(parent_text)\n",
    "            # polarity\n",
    "            polarity = data.edges[idx, parent]['weight']\n",
    "\n",
    "            df.loc[i] = [idx, node_text, parent, parent_text, polarity]\n",
    "    \n",
    "    # concat temp df to main df\n",
    "    main_df = pd.concat([main_df, df], ignore_index=True, axis=0)\n",
    "    \n",
    "main_df"
   ]
  }
 ],
 "metadata": {
  "kernelspec": {
   "display_name": "Python 3 (ipykernel)",
   "language": "python",
   "name": "python3"
  },
  "language_info": {
   "codemirror_mode": {
    "name": "ipython",
    "version": 3
   },
   "file_extension": ".py",
   "mimetype": "text/x-python",
   "name": "python",
   "nbconvert_exporter": "python",
   "pygments_lexer": "ipython3",
   "version": "3.9.7"
  }
 },
 "nbformat": 4,
 "nbformat_minor": 4
}
